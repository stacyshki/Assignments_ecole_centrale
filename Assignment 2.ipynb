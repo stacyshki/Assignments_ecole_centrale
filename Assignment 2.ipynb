{
 "cells": [
  {
   "cell_type": "markdown",
   "metadata": {},
   "source": [
    "#### Question 1\n",
    "Write a Python function that reads two strings s1 and s2 and checks whether s2 is an Anagram of s1.<br>\n",
    "N.B. The code should not use loops."
   ]
  },
  {
   "cell_type": "code",
   "execution_count": 31,
   "metadata": {},
   "outputs": [
    {
     "name": "stdout",
     "output_type": "stream",
     "text": [
      "True\n"
     ]
    }
   ],
   "source": [
    "def is_anagram(s1, s2):\n",
    "#BEGIN SOLUTION\n",
    "    s1, s2 = s1.lower().split(), s2.lower().split() # Anagrams may include whitespaces\n",
    "    s1, s2 = list(''.join(s1)), list(''.join(s2))\n",
    "    s1.sort()\n",
    "    s2.sort()\n",
    "    if s1 == s2:\n",
    "        return True\n",
    "    return False\n",
    "#END SOLUTION\n",
    "print(is_anagram(\"Open\", \"Nope\"))"
   ]
  },
  {
   "cell_type": "markdown",
   "metadata": {},
   "source": [
    "#### Question 2\n",
    "Write a Python function that checks if two words given as input have the same pattern of characters or not.<br>\n",
    "Two strings have the same pattern of characters if:\n",
    "- They have the same length \n",
    "- If two chatracters in the first string are equal if and only if the characters in the corresponding positions in the second string are also equal\n",
    "\n",
    "N.B. You are allowed to use strings only. No lists, no tuples, no dictionaries"
   ]
  },
  {
   "cell_type": "code",
   "execution_count": 32,
   "metadata": {},
   "outputs": [
    {
     "name": "stdout",
     "output_type": "stream",
     "text": [
      "True\n"
     ]
    }
   ],
   "source": [
    "def same_pattern(s1, s2):\n",
    "#BEGIN SOLUTION\n",
    "    if len(s1) != len(s2):\n",
    "        return False\n",
    "    \n",
    "    pointer = ''\n",
    "    starting_s1 = s1\n",
    "\n",
    "    for i in s1:\n",
    "        for y in s2:\n",
    "            \n",
    "            if i not in pointer and y not in pointer:\n",
    "                pointer += i+y\n",
    "    \n",
    "    for j in s1:\n",
    "        if j in starting_s1:\n",
    "            s1 = s1.replace(j, pointer[pointer.find(j) + 1])\n",
    "\n",
    "    return s1 == s2\n",
    "#END SOLUTION\n",
    "\n",
    "# Example usage:\n",
    "s1 = \"xyxzx\"\n",
    "s2 = \"abaca\"\n",
    "print(same_pattern(s1, s2))\n"
   ]
  },
  {
   "cell_type": "markdown",
   "metadata": {},
   "source": [
    "#### Question 3\n",
    "Write a Python function that takes a list L of positive integer numbers as well as a positive integer S and finds the elements in L that sum to S.  <br>\n",
    "Hint. you can use a dictionary  "
   ]
  },
  {
   "cell_type": "code",
   "execution_count": 33,
   "metadata": {},
   "outputs": [
    {
     "name": "stdout",
     "output_type": "stream",
     "text": [
      "Here are the sublists that add up to 3: [[1, 2]]\n",
      "Here are the sublists that add up to 17: [[2, 4, 11], [1, 2, 4, 10]]\n"
     ]
    }
   ],
   "source": [
    "def sub_lists(L, pairs_amount):\n",
    "#BEGIN SOLUTION\n",
    "    if pairs_amount == 0:\n",
    "        return [[]]\n",
    "    pairs_list = []\n",
    "    for _ in range(0, len(L)):\n",
    "        element = L[_]\n",
    "        remaining_elements = L[_ + 1::]\n",
    "        for i in sub_lists(remaining_elements, pairs_amount - 1):\n",
    "            pairs_list.append([element] + i)\n",
    "    return pairs_list\n",
    "#END SOLUTION\n",
    "\n",
    "def find_sublist(L, S):\n",
    "#BEGIN SOLUTION\n",
    "    positioning = dict()\n",
    "    L.sort()\n",
    "    for _ in range(1, len(L) + 1):\n",
    "        result = sub_lists(L, _)\n",
    "        for i in result:\n",
    "            pos = sum(i)\n",
    "            if pos in positioning.keys():\n",
    "                positioning[pos].append(i)\n",
    "            else:\n",
    "                positioning.setdefault(pos, [])\n",
    "                positioning[pos].append(i)\n",
    "    positioning_unique = []\n",
    "    for y in positioning[S]:\n",
    "        if y not in positioning_unique:\n",
    "            positioning_unique.append(y)\n",
    "    return positioning_unique\n",
    "#END SOLUTION\n",
    "\n",
    "# Example Usage:\n",
    "l = [1, 4, 10, 11, 2]\n",
    "S = 3\n",
    "print(f\"Here are the sublists that add up to {S}: {find_sublist(l, S)}\")\n",
    "S = 17\n",
    "print(f\"Here are the sublists that add up to {S}: {find_sublist(l, S)}\")"
   ]
  },
  {
   "cell_type": "markdown",
   "metadata": {},
   "source": [
    "#### Question 4\n",
    "Given two lists of integers, find two numbers that add up to a given target."
   ]
  },
  {
   "cell_type": "code",
   "execution_count": 34,
   "metadata": {},
   "outputs": [
    {
     "name": "stdout",
     "output_type": "stream",
     "text": [
      "Numbers that add up to 9: [2, 7]\n"
     ]
    }
   ],
   "source": [
    "def find_two_numbers(L, S):\n",
    "#BEGIN SOLUTION\n",
    "    L = [i for i in L if i < S] # reduce search area\n",
    "    L.sort()\n",
    "    position_1, position_2 = 0, len(L) - 1\n",
    "\n",
    "    for i in range(len(L)):\n",
    "        if L[position_1] + L[position_2] < S:\n",
    "            position_1 += 1\n",
    "        \n",
    "        if L[position_1] + L[position_2] > S:\n",
    "            position_2 -= 1\n",
    "        \n",
    "        if L[position_1] + L[position_2] == S:\n",
    "            return [L[position_1], L[position_2]]\n",
    "    return 0\n",
    "#END SOLUTION\n",
    "\n",
    "# Example usage:\n",
    "numbers = [2, 7, 11, 15]\n",
    "target_sum = 9\n",
    "\n",
    "result = find_two_numbers(numbers, target_sum)\n",
    "\n",
    "if result:\n",
    "    print(f\"Numbers that add up to {target_sum}: {result}\")\n",
    "else:\n",
    "    print(f\"No pair of numbers found that add up to {target_sum}.\")\n"
   ]
  },
  {
   "cell_type": "markdown",
   "metadata": {},
   "source": [
    "#### Question 5\n",
    "Write a function called insertion sort that implements the Insertion Sort algorithm.\n",
    "The algorithm builds the final sorted array one item at a time following these steps:\n",
    "- Start from the second element (index 1) in the array.\n",
    "- Compare the current element with its adjacent element to the left.\n",
    "    - If the current element is smaller than its adjacent element, swap them.\n",
    "    - Continue swapping until the current element is greater than or equal to the element on its left or until it reaches the beginning of the array.\n",
    "- Move to the next element in the array and repeat steps 2-3.\n",
    "- Continue this process until you reach the end of the array."
   ]
  },
  {
   "cell_type": "code",
   "execution_count": 35,
   "metadata": {},
   "outputs": [
    {
     "name": "stdout",
     "output_type": "stream",
     "text": [
      "Sorted List: [11, 12, 22, 25, 64]\n"
     ]
    }
   ],
   "source": [
    "def insertion_sort(arr):\n",
    "#BEGIN SOLUTION\n",
    "    for _ in range(len(arr) - 1): # We can shift a number maximum len(arr) - 1 times\n",
    "        for n in range(1, len(arr)):\n",
    "            if arr[n] < arr[n - 1]:\n",
    "                arr[n], arr[n - 1] = arr[n - 1], arr[n]\n",
    "    \n",
    "    return arr\n",
    "#END SOLUTION\n",
    "\n",
    "# Example usage:\n",
    "unsorted_list = [64, 25, 12, 22, 11]\n",
    "sorted_list = insertion_sort(unsorted_list)\n",
    "print(\"Sorted List:\", sorted_list)"
   ]
  },
  {
   "cell_type": "markdown",
   "metadata": {},
   "source": [
    "#### Question 6\n",
    "Write a Python function that merges two sorted arrays L1 and L2. <br>\n",
    "N.B. Use the for loops only"
   ]
  },
  {
   "cell_type": "code",
   "execution_count": 36,
   "metadata": {},
   "outputs": [
    {
     "name": "stdout",
     "output_type": "stream",
     "text": [
      "[1, 2, 3, 5, 7]\n"
     ]
    }
   ],
   "source": [
    "def merge_lists(L1, L2):\n",
    "#BEGIN SOLUTION\n",
    "    for i in L2:\n",
    "        if i in L1:\n",
    "            continue\n",
    "        else:\n",
    "            L1.append(i)\n",
    "    \n",
    "    return L1\n",
    "#END SOLUTION\n",
    "\n",
    "# Usage Example:\n",
    "L1 = [1,2 ]\n",
    "L2 = [3, 5, 7]\n",
    "print(merge_lists(L1, L2))\n"
   ]
  },
  {
   "cell_type": "markdown",
   "metadata": {},
   "source": [
    "#### Question 7\n",
    "Given a sorted list L, write a function that removes the duplicates from L.<br>\n",
    "N.B. \n",
    "- Use while loops only\n",
    "- Do not create new lists, tuples or dictionaries\n"
   ]
  },
  {
   "cell_type": "code",
   "execution_count": 37,
   "metadata": {},
   "outputs": [
    {
     "name": "stdout",
     "output_type": "stream",
     "text": [
      "[1, 3, 5, 7, 8]\n"
     ]
    }
   ],
   "source": [
    "def remove_duplicates(L):\n",
    "#BEGIN SOLUTION\n",
    "    flag = 0\n",
    "    position, changes = 0, 0\n",
    "\n",
    "    while flag == 0:\n",
    "        \n",
    "        if len(L) == 1:\n",
    "          break\n",
    "\n",
    "        if position >= len(L) - 1:\n",
    "            if changes == 0 and L[-1] != L[-2]:\n",
    "                flag = 1\n",
    "\n",
    "            position = 0\n",
    "            changes = 0\n",
    "        \n",
    "        if L[position] == L[position + 1]:\n",
    "            L.pop(position)\n",
    "            changes += 1\n",
    "\n",
    "        if L[position] == L[position - 1] and len(L) != 1:\n",
    "            L.pop(position)\n",
    "            changes += 1\n",
    "        \n",
    "        position += 1\n",
    "        \n",
    "    return L \n",
    "#END SOLUTION\n",
    "# Usage example:\n",
    "L = [1, 3, 3, 5, 7, 8, 8, 8, 8]\n",
    "print(remove_duplicates(L))\n"
   ]
  },
  {
   "cell_type": "markdown",
   "metadata": {},
   "source": [
    "#### Question 8\n",
    "Write a Python code that implements an efficient version of the Fibonacci. The new version is a recursive function that shall reduce the number of calculations by memorizing the previous steps using a dictionary.<br>\n",
    "Write also the \"simple\" Fibonacci function and compare the two variants for n = 100.\n"
   ]
  },
  {
   "cell_type": "code",
   "execution_count": 1,
   "metadata": {},
   "outputs": [
    {
     "name": "stdout",
     "output_type": "stream",
     "text": [
      "1346269\n",
      "fib_efficient managed in 0.31641697883605957 sec.\n",
      "1346269\n",
      "regular_fib managed in 0.10768890380859375 sec.\n"
     ]
    }
   ],
   "source": [
    "from time import time\n",
    "\n",
    "\n",
    "def fib_efficient(n, old_values):\n",
    "#BEGIN SOLUTION\n",
    "    old_values = {0 : 1, 1: 1}\n",
    "    \n",
    "    if n in old_values.keys():\n",
    "        return old_values[n]\n",
    "    else:\n",
    "        old_values[n] = fib_efficient(n-1, old_values) + fib_efficient(n-2, old_values)\n",
    "    \n",
    "    return old_values[n]\n",
    "#END SOLUTION\n",
    "\n",
    "\n",
    "def regular_fib(n):\n",
    "#BEGIN SOLUTION\n",
    "    first_two_n = 1\n",
    "\n",
    "    if n < 2:\n",
    "        return first_two_n\n",
    "    \n",
    "    return regular_fib(n-1) + regular_fib(n-2)\n",
    "#END SOLUTION\n",
    "# Usage example\n",
    "old = {}\n",
    "start = time()\n",
    "print(fib_efficient(30, old))\n",
    "print(f'fib_efficient managed in {time()-start} sec.')\n",
    "start = time()\n",
    "print(regular_fib(30))\n",
    "print(f'regular_fib managed in {time()-start} sec.')\n"
   ]
  },
  {
   "cell_type": "code",
   "execution_count": null,
   "metadata": {},
   "outputs": [],
   "source": []
  }
 ],
 "metadata": {
  "kernelspec": {
   "display_name": "Python 3",
   "language": "python",
   "name": "python3"
  },
  "language_info": {
   "codemirror_mode": {
    "name": "ipython",
    "version": 3
   },
   "file_extension": ".py",
   "mimetype": "text/x-python",
   "name": "python",
   "nbconvert_exporter": "python",
   "pygments_lexer": "ipython3",
   "version": "3.11.1"
  }
 },
 "nbformat": 4,
 "nbformat_minor": 2
}
