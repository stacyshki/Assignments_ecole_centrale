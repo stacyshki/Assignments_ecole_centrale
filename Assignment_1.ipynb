{
 "cells": [
  {
   "cell_type": "code",
   "execution_count": 4,
   "metadata": {},
   "outputs": [
    {
     "name": "stdout",
     "output_type": "stream",
     "text": [
      "____________________________t____________________________\n",
      "___________________________u_v___________________________\n",
      "__________________________w_x_y__________________________\n",
      "_________________________z_{_|_}_________________________\n",
      "________________________~____________________________\n",
      "___________________________________________________\n",
      "__________________________________________________\n",
      "_________________________________________________\n",
      "____________________________ ____________________\n",
      "___________________¡_¢_£_¤_¥_¦_§_¨_©_ª___________________\n",
      "__________________«_¬_­_®_¯_°_±_²_³_´_µ__________________\n",
      "_________________¶_·_¸_¹_º_»_¼_½_¾_¿_À_Á_________________\n",
      "________________Â_Ã_Ä_Å_Æ_Ç_È_É_Ê_Ë_Ì_Í_Î________________\n",
      "_______________Ï_Ð_Ñ_Ò_Ó_Ô_Õ_Ö_×_Ø_Ù_Ú_Û_Ü_______________\n",
      "______________Ý_Þ_ß_à_á_â_ã_ä_å_æ_ç_è_é_ê_ë______________\n",
      "_____________ì_í_î_ï_ð_ñ_ò_ó_ô_õ_ö_÷_ø_ù_ú_û_____________\n",
      "____________ü_ý_þ_ÿ_Ā_ā_Ă_ă_Ą_ą_Ć_ć_Ĉ_ĉ_Ċ_ċ_Č____________\n",
      "___________č_Ď_ď_Đ_đ_Ē_ē_Ĕ_ĕ_Ė_ė_Ę_ę_Ě_ě_Ĝ_ĝ_Ğ___________\n",
      "__________ğ_Ġ_ġ_Ģ_ģ_Ĥ_ĥ_Ħ_ħ_Ĩ_ĩ_Ī_ī_Ĭ_ĭ_Į_į_İ_ı__________\n",
      "_________Ĳ_ĳ_Ĵ_ĵ_Ķ_ķ_ĸ_Ĺ_ĺ_Ļ_ļ_Ľ_ľ_Ŀ_ŀ_Ł_ł_Ń_ń_Ņ_________\n",
      "________ņ_Ň_ň_ŉ_Ŋ_ŋ_Ō_ō_Ŏ_ŏ_Ő_ő_Œ_œ_Ŕ_ŕ_Ŗ_ŗ_Ř_ř_Ś________\n",
      "_______ś_Ŝ_ŝ_Ş_ş_Š_š_Ţ_ţ_Ť_ť_Ŧ_ŧ_Ũ_ũ_Ū_ū_Ŭ_ŭ_Ů_ů_Ű_______\n",
      "______ű_Ų_ų_Ŵ_ŵ_Ŷ_ŷ_Ÿ_Ź_ź_Ż_ż_Ž_ž_ſ_ƀ_Ɓ_Ƃ_ƃ_Ƅ_ƅ_Ɔ_Ƈ______\n",
      "_____ƈ_Ɖ_Ɗ_Ƌ_ƌ_ƍ_Ǝ_Ə_Ɛ_Ƒ_ƒ_Ɠ_Ɣ_ƕ_Ɩ_Ɨ_Ƙ_ƙ_ƚ_ƛ_Ɯ_Ɲ_ƞ_Ɵ_____\n",
      "____Ơ_ơ_Ƣ_ƣ_Ƥ_ƥ_Ʀ_Ƨ_ƨ_Ʃ_ƪ_ƫ_Ƭ_ƭ_Ʈ_Ư_ư_Ʊ_Ʋ_Ƴ_ƴ_Ƶ_ƶ_Ʒ_Ƹ____\n",
      "___ƹ_ƺ_ƻ_Ƽ_ƽ_ƾ_ƿ_ǀ_ǁ_ǂ_ǃ_Ǆ_ǅ_ǆ_Ǉ_ǈ_ǉ_Ǌ_ǋ_ǌ_Ǎ_ǎ_Ǐ_ǐ_Ǒ_ǒ___\n",
      "__Ǔ_ǔ_Ǖ_ǖ_Ǘ_ǘ_Ǚ_ǚ_Ǜ_ǜ_ǝ_Ǟ_ǟ_Ǡ_ǡ_Ǣ_ǣ_Ǥ_ǥ_Ǧ_ǧ_Ǩ_ǩ_Ǫ_ǫ_Ǭ_ǭ__\n",
      "_Ǯ_ǯ_ǰ_Ǳ_ǲ_ǳ_Ǵ_ǵ_Ƕ_Ƿ_Ǹ_ǹ_Ǻ_ǻ_Ǽ_ǽ_Ǿ_ǿ_Ȁ_ȁ_Ȃ_ȃ_Ȅ_ȅ_Ȇ_ȇ_Ȉ_ȉ_\n",
      "Ȋ_ȋ_Ȍ_ȍ_Ȏ_ȏ_Ȑ_ȑ_Ȓ_ȓ_Ȕ_ȕ_Ȗ_ȗ_Ș_ș_Ț_ț_Ȝ_ȝ_Ȟ_ȟ_Ƞ_ȡ_Ȣ_ȣ_Ȥ_ȥ_Ȧ\n"
     ]
    }
   ],
   "source": [
    "# Exercise 1\n",
    "\n",
    "current_letter= ord(input('From what symbol to start?: '))\n",
    "\n",
    "f = 0\n",
    "\n",
    "while f == 0:\n",
    "    rows = input('Input an N number: ')\n",
    "    if rows.isdigit():\n",
    "        f = 1\n",
    "        rows = int(rows)\n",
    "\n",
    "for i in range(1, rows + 1):\n",
    "    string = ''\n",
    "    for y in range(i):\n",
    "        if y + 1 != i:\n",
    "            string += chr(current_letter) + '_'\n",
    "        else:\n",
    "            string += chr(current_letter)\n",
    "        current_letter += 1\n",
    "    print(string.center(2 * rows - 1, '_'))\n"
   ]
  },
  {
   "cell_type": "code",
   "execution_count": 2,
   "metadata": {},
   "outputs": [
    {
     "name": "stdout",
     "output_type": "stream",
     "text": [
      "The sum of odd numbers that are less than given N is 36\n"
     ]
    }
   ],
   "source": [
    "# Exercise 2\n",
    "\n",
    "f = 0\n",
    "\n",
    "while f == 0:\n",
    "    n_number = input('Input an N number: ')\n",
    "    if n_number.isdigit():\n",
    "        f = 1\n",
    "        n_number = int(n_number)\n",
    "    \n",
    "\n",
    "odds_sum = 0\n",
    "\n",
    "if n_number < 1:\n",
    "    print('Something went wrong... Try again!')\n",
    "else:\n",
    "    for i in range(1, n_number, 2):\n",
    "        odds_sum += i\n",
    "    print(f'The sum of odd numbers that are less than given N is {odds_sum}')\n"
   ]
  },
  {
   "cell_type": "code",
   "execution_count": 33,
   "metadata": {},
   "outputs": [
    {
     "name": "stdout",
     "output_type": "stream",
     "text": [
      "The string q1-a contains 1 consonant, 1 vowel, 1 digit and 1 symbol\n"
     ]
    }
   ],
   "source": [
    "# Exercise 3\n",
    "\n",
    "count_vowels, count_consonants, count_digits, count_symbols = 0, 0, 0, 0\n",
    "vowels, consonants, digits = 'eyuioa', 'qwrtpsdfghjklzxcvbnm', '0123456789'\n",
    "name_1, name_2, name_3, name_4 = 'vowels', 'consonants', 'digits', 'symbols'\n",
    "string_user = input('Enter your string to know more about it!: ')\n",
    "\n",
    "for i in string_user.lower():\n",
    "    if i in vowels:\n",
    "        count_vowels += 1\n",
    "    elif i in consonants:\n",
    "        count_consonants += 1\n",
    "    elif i in digits:\n",
    "        count_digits += 1\n",
    "    else:\n",
    "        count_symbols += 1\n",
    "\n",
    "if count_consonants == 1 or count_digits == 1 or count_vowels == 1 or count_symbols == 1: # We are gonna drop here rarely\n",
    "    if count_consonants == 1:\n",
    "        name_2 = name_2[:-1]\n",
    "    if count_digits == 1:\n",
    "        name_3 = name_3[:-1]\n",
    "    if count_vowels == 1:\n",
    "        name_1 = name_1[:-1]\n",
    "    if count_symbols == 1:\n",
    "        name_4 = name_4[:-1]\n",
    "\n",
    "print(f'The string {string_user} contains {count_consonants} {name_2}, {count_vowels} {name_1}, {count_digits} {name_3} and {count_symbols} {name_4}')\n"
   ]
  },
  {
   "cell_type": "code",
   "execution_count": 49,
   "metadata": {},
   "outputs": [
    {
     "name": "stdout",
     "output_type": "stream",
     "text": [
      "2002, 2009, 2016, 2023, 2037, 2044, 2051, 2058, 2072, 2079, 2086, 2093, 2107, 2114, 2121, 2128, 2142, 2149, 2156, 2163, 2177, 2184, 2191, 2198, 2212, 2219, 2226, 2233, 2247, 2254, 2261, 2268, 2282, 2289, 2296, 2303, 2317, 2324, 2331, 2338, 2352, 2359, 2366, 2373, 2387, 2394, 2401, 2408, 2422, 2429, 2436, 2443, 2457, 2464, 2471, 2478, 2492, 2499, 2506, 2513, 2527, 2534, 2541, 2548, 2562, 2569, 2576, 2583, 2597, 2604, 2611, 2618, 2632, 2639, 2646, 2653, 2667, 2674, 2681, 2688, 2702, 2709, 2716, 2723, 2737, 2744, 2751, 2758, 2772, 2779, 2786, 2793, 2807, 2814, 2821, 2828, 2842, 2849, 2856, 2863, 2877, 2884, 2891, 2898, 2912, 2919, 2926, 2933, 2947, 2954, 2961, 2968, 2982, 2989, 2996, 3003, 3017, 3024, 3031, 3038, 3052, 3059, 3066, 3073, 3087, 3094, 3101, 3108, 3122, 3129, 3136, 3143, 3157, 3164, 3171, 3178, 3192, 3199\n",
      "2002, 2009, 2016, 2023, 2037, 2044, 2051, 2058, 2072, 2079, 2086, 2093, 2107, 2114, 2121, 2128, 2142, 2149, 2156, 2163, 2177, 2184, 2191, 2198, 2212, 2219, 2226, 2233, 2247, 2254, 2261, 2268, 2282, 2289, 2296, 2303, 2317, 2324, 2331, 2338, 2352, 2359, 2366, 2373, 2387, 2394, 2401, 2408, 2422, 2429, 2436, 2443, 2457, 2464, 2471, 2478, 2492, 2499, 2506, 2513, 2527, 2534, 2541, 2548, 2562, 2569, 2576, 2583, 2597, 2604, 2611, 2618, 2632, 2639, 2646, 2653, 2667, 2674, 2681, 2688, 2702, 2709, 2716, 2723, 2737, 2744, 2751, 2758, 2772, 2779, 2786, 2793, 2807, 2814, 2821, 2828, 2842, 2849, 2856, 2863, 2877, 2884, 2891, 2898, 2912, 2919, 2926, 2933, 2947, 2954, 2961, 2968, 2982, 2989, 2996, 3003, 3017, 3024, 3031, 3038, 3052, 3059, 3066, 3073, 3087, 3094, 3101, 3108, 3122, 3129, 3136, 3143, 3157, 3164, 3171, 3178, 3192, 3199\n"
     ]
    }
   ],
   "source": [
    "# Exercise 4\n",
    "\n",
    "line = ''\n",
    "\n",
    "for i in range(2000, 3200 + 1):\n",
    "    if i % 7 == 0:\n",
    "        if i % 5 != 0:\n",
    "            line += str(i) + ', '\n",
    "\n",
    "print(line[:-2])\n",
    "\n",
    "# Exercise 4 method 2\n",
    "\n",
    "start, end  = 2000, 3200\n",
    "line = ''\n",
    "\n",
    "if start % 7 != 0:\n",
    "    start += (7-start % 7)\n",
    "    for i in range(start, end + 1, 7):\n",
    "        if i % 5 != 0:\n",
    "            line += f'{i}, '\n",
    "else:\n",
    "    for i in range(start, end + 1, 7):\n",
    "        if i % 5 != 0:\n",
    "            line += f'{i}, '\n",
    "\n",
    "line = line[:-2] \n",
    "print(line)   \n"
   ]
  },
  {
   "cell_type": "code",
   "execution_count": 56,
   "metadata": {},
   "outputs": [
    {
     "name": "stdout",
     "output_type": "stream",
     "text": [
      "Largest is 7 and smallest is 3\n"
     ]
    }
   ],
   "source": [
    "# Exercise 5\n",
    "\n",
    "amount_numbers = int(input('How many numbers: '))\n",
    "numbers_user = input('Give the numbers: ')\n",
    "maximum, minimum = float('-inf'), float('inf')\n",
    "\n",
    "for i in numbers_user.split(', '):\n",
    "    if maximum < int(i):\n",
    "        maximum = int(i)\n",
    "    if minimum > int(i):\n",
    "        minimum = int(i)\n",
    "\n",
    "print(f'Largest is {maximum} and smallest is {minimum}')\n"
   ]
  },
  {
   "cell_type": "code",
   "execution_count": 58,
   "metadata": {},
   "outputs": [
    {
     "name": "stdout",
     "output_type": "stream",
     "text": [
      "The sum of numbers between 2 and 8 is 35 and the product is 40320.\n"
     ]
    }
   ],
   "source": [
    "# Exercise 6\n",
    "\n",
    "user_inp = input('Give the numbers N and M separated by a comma: ').split(',')\n",
    "nums_sum, product = 0, 1\n",
    "\n",
    "for i in range(int(user_inp[0]), int(user_inp[1]) + 1):\n",
    "    nums_sum += i\n",
    "    product *= i\n",
    "\n",
    "print(f'The sum of numbers between {user_inp[0]} and {user_inp[1]} is {nums_sum} and the product is {product}.')\n"
   ]
  },
  {
   "cell_type": "code",
   "execution_count": 60,
   "metadata": {},
   "outputs": [
    {
     "name": "stdout",
     "output_type": "stream",
     "text": [
      "The sum of odd numbers between 2 and 8 is 15 and the product is 105.\n"
     ]
    }
   ],
   "source": [
    "# Exercise 7\n",
    "\n",
    "user_inp = input('Give the numbers N and M separated by a comma: ').split(',')\n",
    "nums_sum, product = 0, 1\n",
    "\n",
    "if int(user_inp[0]) % 2 != 0:\n",
    "    for i in range(int(user_inp[0]), int(user_inp[1]) + 1, 2):\n",
    "        nums_sum += i\n",
    "        product *= i\n",
    "else:\n",
    "    for i in range(int(user_inp[0]) + 1, int(user_inp[1]) + 1, 2):\n",
    "        nums_sum += i\n",
    "        product *= i\n",
    "\n",
    "print(f'The sum of odd numbers between {user_inp[0]} and {user_inp[1]} is {nums_sum} and the product is {product}.')\n"
   ]
  },
  {
   "cell_type": "code",
   "execution_count": 63,
   "metadata": {},
   "outputs": [
    {
     "name": "stdout",
     "output_type": "stream",
     "text": [
      "UPPER CASE 1\n",
      "LOWER CASE 9\n"
     ]
    }
   ],
   "source": [
    "# Exercise 8\n",
    "\n",
    "alph_l = 'qwertyuiopasdfghjklzxcvbnm'\n",
    "alph_u = alph_l.upper()\n",
    "user_sentence = input('Type me something: ')\n",
    "lower, upper = 0, 0\n",
    "\n",
    "for i in user_sentence:\n",
    "    if i in alph_l:\n",
    "        lower += 1\n",
    "    elif i in alph_u:\n",
    "        upper += 1\n",
    "\n",
    "print(f'UPPER CASE {upper}', f'LOWER CASE {lower}', sep='\\n')\n"
   ]
  }
 ],
 "metadata": {
  "kernelspec": {
   "display_name": ".venv",
   "language": "python",
   "name": "python3"
  },
  "language_info": {
   "codemirror_mode": {
    "name": "ipython",
    "version": 3
   },
   "file_extension": ".py",
   "mimetype": "text/x-python",
   "name": "python",
   "nbconvert_exporter": "python",
   "pygments_lexer": "ipython3",
   "version": "3.11.1"
  }
 },
 "nbformat": 4,
 "nbformat_minor": 2
}
