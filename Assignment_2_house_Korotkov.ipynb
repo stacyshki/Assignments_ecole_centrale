{
 "cells": [
  {
   "cell_type": "code",
   "execution_count": 4,
   "metadata": {},
   "outputs": [
    {
     "data": {
      "text/plain": [
       "'\\nSettling in a house in Lyon without even being able to buy it in real life (((\\n'"
      ]
     },
     "execution_count": 4,
     "metadata": {},
     "output_type": "execute_result"
    }
   ],
   "source": [
    "\"\"\"\n",
    "Settling in a house in Lyon without even being able to buy it in real life (((\n",
    "\"\"\""
   ]
  },
  {
   "cell_type": "code",
   "execution_count": 1,
   "metadata": {},
   "outputs": [
    {
     "name": "stdout",
     "output_type": "stream",
     "text": [
      "Number of months: 80\n"
     ]
    }
   ],
   "source": [
    "# Part I-II (improved)\n",
    "\n",
    "from sys import exit\n",
    "\n",
    "\n",
    "def calculating_months(r = 0.04, current_savings = 0, portion_down_payment = 0.25):\n",
    "    annual_salary = input('Enter your annual salary in Lyon: ')\n",
    "    portion_saved = input('Enter the portion of salary to be saved, as a decimal: ')\n",
    "    total_cost = input('Enter the cost of your dream house in Lyon: ')\n",
    "    semi_annual_rise = input('Enter the semi-annual rise, as a decimal: ')\n",
    "    months = 0\n",
    "\n",
    "    if annual_salary.isdigit() and ''.join(portion_saved.split('.')).isdigit() and total_cost.isdigit() and \\\n",
    "        ''.join(semi_annual_rise.split('.')).isdigit():\n",
    "        \n",
    "        annual_salary = int(annual_salary)\n",
    "        portion_saved = float(portion_saved)\n",
    "        total_cost = int(total_cost)\n",
    "        semi_annual_rise = float(semi_annual_rise)\n",
    "        monthly_salary = annual_salary / 12\n",
    "    else:\n",
    "\n",
    "        print('Please, type every value correctly')\n",
    "        exit()\n",
    "    \n",
    "    money_needed = total_cost * portion_down_payment\n",
    "\n",
    "    while current_savings < money_needed:\n",
    "        months += 1\n",
    "        \n",
    "        if months % 6 == 0:\n",
    "            monthly_salary *= (1 + semi_annual_rise)\n",
    "        \n",
    "        current_savings += monthly_salary*portion_saved + current_savings*r/12\n",
    "    \n",
    "    return months\n",
    "\n",
    "\n",
    "if __name__ == '__main__':\n",
    "    print(f'Number of months: {calculating_months()}')\n"
   ]
  },
  {
   "cell_type": "code",
   "execution_count": 42,
   "metadata": {},
   "outputs": [
    {
     "name": "stdout",
     "output_type": "stream",
     "text": [
      "Best savings rate: 0.1744\n",
      "Steps in bisection search: 12\n"
     ]
    }
   ],
   "source": [
    "# Part III\n",
    "\n",
    "from sys import exit\n",
    "\n",
    "\n",
    "def right_savings_rate(total_cost = 320000, portion_down_payment = 0.25, months = 36, r = 0.04, semi_annual_rise = 0.07, \\\n",
    "                       close_to_payment = 100):\n",
    "    down_payment = total_cost * portion_down_payment\n",
    "    steps_search = 0\n",
    "    best_rate, best_rate_found = [i/10000 for i in range(1, 10001)], 0\n",
    "    position_low, position_high = 0, len(best_rate) - 1\n",
    "    starting_salary = input('Enter the starting salary in Lyon: ')\n",
    "\n",
    "    if starting_salary.isdigit():\n",
    "        monthly_salary = int(starting_salary) / 12\n",
    "    \n",
    "    while best_rate_found == 0:\n",
    "        position_mid = (position_low + position_high) // 2\n",
    "        salary = monthly_salary\n",
    "        current_savings = 0\n",
    "        \n",
    "        for _ in range(1, months + 1):\n",
    "\n",
    "            if _ % 6 == 0:\n",
    "                salary *= (1 + semi_annual_rise)\n",
    "            \n",
    "            current_savings += salary*best_rate[position_mid] + current_savings*r/12\n",
    "\n",
    "        steps_search += 1\n",
    "\n",
    "        if position_low > len(best_rate) - 1:\n",
    "            print('It is not possible to pay the down payment in three years.')\n",
    "            exit()\n",
    "        \n",
    "        if down_payment - close_to_payment <= current_savings <= down_payment + close_to_payment:\n",
    "            best_rate_found = 1\n",
    "        else:\n",
    "            if down_payment - close_to_payment > current_savings:\n",
    "                position_low = position_mid + 1\n",
    "            else:\n",
    "                position_high = position_mid - 1\n",
    "    \n",
    "    return f'Best savings rate: {best_rate[position_mid]}\\nSteps in bisection search: {steps_search}'\n",
    "\n",
    "\n",
    "if __name__ == '__main__':\n",
    "    print(right_savings_rate())\n"
   ]
  }
 ],
 "metadata": {
  "kernelspec": {
   "display_name": ".venv",
   "language": "python",
   "name": "python3"
  },
  "language_info": {
   "codemirror_mode": {
    "name": "ipython",
    "version": 3
   },
   "file_extension": ".py",
   "mimetype": "text/x-python",
   "name": "python",
   "nbconvert_exporter": "python",
   "pygments_lexer": "ipython3",
   "version": "3.11.1"
  }
 },
 "nbformat": 4,
 "nbformat_minor": 2
}
